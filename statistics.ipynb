{
 "cells": [
  {
   "cell_type": "markdown",
   "id": "9437d16c",
   "metadata": {},
   "source": [
    "The great inspiration of the analysis is the wonderful book Practical Statistics in Data Science by Peter Bruce and Andrew Bruce. The data used to explain main terminology in statistics (1st chapter of the book) is the file 'cabbages.csv' chosen from the files available in R library MASS. The file contains 60 entries and 5 columns: ID, Cult (2 cultivars), Date (3 planting dates), HeadWt (weight of the cabbage head) and VitC (vitamin C content). "
   ]
  },
  {
   "cell_type": "code",
   "execution_count": 1,
   "id": "f1bbef62",
   "metadata": {},
   "outputs": [],
   "source": [
    "#opening and reading file\n",
    "import pandas as pd\n",
    "file = pd.read_csv('cabbages.csv')"
   ]
  },
  {
   "cell_type": "code",
   "execution_count": 2,
   "id": "97d87959",
   "metadata": {},
   "outputs": [
    {
     "data": {
      "text/html": [
       "<div>\n",
       "<style scoped>\n",
       "    .dataframe tbody tr th:only-of-type {\n",
       "        vertical-align: middle;\n",
       "    }\n",
       "\n",
       "    .dataframe tbody tr th {\n",
       "        vertical-align: top;\n",
       "    }\n",
       "\n",
       "    .dataframe thead th {\n",
       "        text-align: right;\n",
       "    }\n",
       "</style>\n",
       "<table border=\"1\" class=\"dataframe\">\n",
       "  <thead>\n",
       "    <tr style=\"text-align: right;\">\n",
       "      <th></th>\n",
       "      <th>ID</th>\n",
       "      <th>Cult</th>\n",
       "      <th>Date</th>\n",
       "      <th>HeadWt</th>\n",
       "      <th>VitC</th>\n",
       "    </tr>\n",
       "  </thead>\n",
       "  <tbody>\n",
       "    <tr>\n",
       "      <th>0</th>\n",
       "      <td>1</td>\n",
       "      <td>c39</td>\n",
       "      <td>d16</td>\n",
       "      <td>2.5</td>\n",
       "      <td>51</td>\n",
       "    </tr>\n",
       "    <tr>\n",
       "      <th>1</th>\n",
       "      <td>2</td>\n",
       "      <td>c39</td>\n",
       "      <td>d16</td>\n",
       "      <td>2.2</td>\n",
       "      <td>55</td>\n",
       "    </tr>\n",
       "    <tr>\n",
       "      <th>2</th>\n",
       "      <td>3</td>\n",
       "      <td>c39</td>\n",
       "      <td>d16</td>\n",
       "      <td>3.1</td>\n",
       "      <td>45</td>\n",
       "    </tr>\n",
       "    <tr>\n",
       "      <th>3</th>\n",
       "      <td>4</td>\n",
       "      <td>c39</td>\n",
       "      <td>d16</td>\n",
       "      <td>4.3</td>\n",
       "      <td>42</td>\n",
       "    </tr>\n",
       "    <tr>\n",
       "      <th>4</th>\n",
       "      <td>5</td>\n",
       "      <td>c39</td>\n",
       "      <td>d16</td>\n",
       "      <td>2.5</td>\n",
       "      <td>53</td>\n",
       "    </tr>\n",
       "    <tr>\n",
       "      <th>5</th>\n",
       "      <td>6</td>\n",
       "      <td>c39</td>\n",
       "      <td>d16</td>\n",
       "      <td>4.3</td>\n",
       "      <td>50</td>\n",
       "    </tr>\n",
       "    <tr>\n",
       "      <th>6</th>\n",
       "      <td>7</td>\n",
       "      <td>c39</td>\n",
       "      <td>d16</td>\n",
       "      <td>3.8</td>\n",
       "      <td>50</td>\n",
       "    </tr>\n",
       "    <tr>\n",
       "      <th>7</th>\n",
       "      <td>8</td>\n",
       "      <td>c39</td>\n",
       "      <td>d16</td>\n",
       "      <td>4.3</td>\n",
       "      <td>52</td>\n",
       "    </tr>\n",
       "    <tr>\n",
       "      <th>8</th>\n",
       "      <td>9</td>\n",
       "      <td>c39</td>\n",
       "      <td>d16</td>\n",
       "      <td>1.7</td>\n",
       "      <td>56</td>\n",
       "    </tr>\n",
       "    <tr>\n",
       "      <th>9</th>\n",
       "      <td>10</td>\n",
       "      <td>c39</td>\n",
       "      <td>d16</td>\n",
       "      <td>3.1</td>\n",
       "      <td>49</td>\n",
       "    </tr>\n",
       "    <tr>\n",
       "      <th>10</th>\n",
       "      <td>11</td>\n",
       "      <td>c39</td>\n",
       "      <td>d20</td>\n",
       "      <td>3.0</td>\n",
       "      <td>65</td>\n",
       "    </tr>\n",
       "    <tr>\n",
       "      <th>11</th>\n",
       "      <td>12</td>\n",
       "      <td>c39</td>\n",
       "      <td>d20</td>\n",
       "      <td>2.8</td>\n",
       "      <td>52</td>\n",
       "    </tr>\n",
       "    <tr>\n",
       "      <th>12</th>\n",
       "      <td>13</td>\n",
       "      <td>c39</td>\n",
       "      <td>d20</td>\n",
       "      <td>2.8</td>\n",
       "      <td>41</td>\n",
       "    </tr>\n",
       "    <tr>\n",
       "      <th>13</th>\n",
       "      <td>14</td>\n",
       "      <td>c39</td>\n",
       "      <td>d20</td>\n",
       "      <td>2.7</td>\n",
       "      <td>51</td>\n",
       "    </tr>\n",
       "    <tr>\n",
       "      <th>14</th>\n",
       "      <td>15</td>\n",
       "      <td>c39</td>\n",
       "      <td>d20</td>\n",
       "      <td>2.6</td>\n",
       "      <td>41</td>\n",
       "    </tr>\n",
       "    <tr>\n",
       "      <th>15</th>\n",
       "      <td>16</td>\n",
       "      <td>c39</td>\n",
       "      <td>d20</td>\n",
       "      <td>2.8</td>\n",
       "      <td>45</td>\n",
       "    </tr>\n",
       "    <tr>\n",
       "      <th>16</th>\n",
       "      <td>17</td>\n",
       "      <td>c39</td>\n",
       "      <td>d20</td>\n",
       "      <td>2.6</td>\n",
       "      <td>51</td>\n",
       "    </tr>\n",
       "    <tr>\n",
       "      <th>17</th>\n",
       "      <td>18</td>\n",
       "      <td>c39</td>\n",
       "      <td>d20</td>\n",
       "      <td>2.6</td>\n",
       "      <td>45</td>\n",
       "    </tr>\n",
       "    <tr>\n",
       "      <th>18</th>\n",
       "      <td>19</td>\n",
       "      <td>c39</td>\n",
       "      <td>d20</td>\n",
       "      <td>2.6</td>\n",
       "      <td>61</td>\n",
       "    </tr>\n",
       "    <tr>\n",
       "      <th>19</th>\n",
       "      <td>20</td>\n",
       "      <td>c39</td>\n",
       "      <td>d20</td>\n",
       "      <td>3.5</td>\n",
       "      <td>42</td>\n",
       "    </tr>\n",
       "    <tr>\n",
       "      <th>20</th>\n",
       "      <td>21</td>\n",
       "      <td>c39</td>\n",
       "      <td>d21</td>\n",
       "      <td>2.2</td>\n",
       "      <td>54</td>\n",
       "    </tr>\n",
       "    <tr>\n",
       "      <th>21</th>\n",
       "      <td>22</td>\n",
       "      <td>c39</td>\n",
       "      <td>d21</td>\n",
       "      <td>1.8</td>\n",
       "      <td>59</td>\n",
       "    </tr>\n",
       "    <tr>\n",
       "      <th>22</th>\n",
       "      <td>23</td>\n",
       "      <td>c39</td>\n",
       "      <td>d21</td>\n",
       "      <td>1.6</td>\n",
       "      <td>66</td>\n",
       "    </tr>\n",
       "    <tr>\n",
       "      <th>23</th>\n",
       "      <td>24</td>\n",
       "      <td>c39</td>\n",
       "      <td>d21</td>\n",
       "      <td>2.1</td>\n",
       "      <td>54</td>\n",
       "    </tr>\n",
       "    <tr>\n",
       "      <th>24</th>\n",
       "      <td>25</td>\n",
       "      <td>c39</td>\n",
       "      <td>d21</td>\n",
       "      <td>3.3</td>\n",
       "      <td>45</td>\n",
       "    </tr>\n",
       "    <tr>\n",
       "      <th>25</th>\n",
       "      <td>26</td>\n",
       "      <td>c39</td>\n",
       "      <td>d21</td>\n",
       "      <td>3.8</td>\n",
       "      <td>49</td>\n",
       "    </tr>\n",
       "    <tr>\n",
       "      <th>26</th>\n",
       "      <td>27</td>\n",
       "      <td>c39</td>\n",
       "      <td>d21</td>\n",
       "      <td>3.2</td>\n",
       "      <td>49</td>\n",
       "    </tr>\n",
       "    <tr>\n",
       "      <th>27</th>\n",
       "      <td>28</td>\n",
       "      <td>c39</td>\n",
       "      <td>d21</td>\n",
       "      <td>3.6</td>\n",
       "      <td>55</td>\n",
       "    </tr>\n",
       "    <tr>\n",
       "      <th>28</th>\n",
       "      <td>29</td>\n",
       "      <td>c39</td>\n",
       "      <td>d21</td>\n",
       "      <td>4.2</td>\n",
       "      <td>49</td>\n",
       "    </tr>\n",
       "    <tr>\n",
       "      <th>29</th>\n",
       "      <td>30</td>\n",
       "      <td>c39</td>\n",
       "      <td>d21</td>\n",
       "      <td>1.6</td>\n",
       "      <td>68</td>\n",
       "    </tr>\n",
       "    <tr>\n",
       "      <th>30</th>\n",
       "      <td>31</td>\n",
       "      <td>c52</td>\n",
       "      <td>d16</td>\n",
       "      <td>2.0</td>\n",
       "      <td>58</td>\n",
       "    </tr>\n",
       "    <tr>\n",
       "      <th>31</th>\n",
       "      <td>32</td>\n",
       "      <td>c52</td>\n",
       "      <td>d16</td>\n",
       "      <td>2.4</td>\n",
       "      <td>55</td>\n",
       "    </tr>\n",
       "    <tr>\n",
       "      <th>32</th>\n",
       "      <td>33</td>\n",
       "      <td>c52</td>\n",
       "      <td>d16</td>\n",
       "      <td>1.9</td>\n",
       "      <td>67</td>\n",
       "    </tr>\n",
       "    <tr>\n",
       "      <th>33</th>\n",
       "      <td>34</td>\n",
       "      <td>c52</td>\n",
       "      <td>d16</td>\n",
       "      <td>2.8</td>\n",
       "      <td>61</td>\n",
       "    </tr>\n",
       "    <tr>\n",
       "      <th>34</th>\n",
       "      <td>35</td>\n",
       "      <td>c52</td>\n",
       "      <td>d16</td>\n",
       "      <td>1.7</td>\n",
       "      <td>67</td>\n",
       "    </tr>\n",
       "    <tr>\n",
       "      <th>35</th>\n",
       "      <td>36</td>\n",
       "      <td>c52</td>\n",
       "      <td>d16</td>\n",
       "      <td>3.2</td>\n",
       "      <td>68</td>\n",
       "    </tr>\n",
       "    <tr>\n",
       "      <th>36</th>\n",
       "      <td>37</td>\n",
       "      <td>c52</td>\n",
       "      <td>d16</td>\n",
       "      <td>2.0</td>\n",
       "      <td>58</td>\n",
       "    </tr>\n",
       "    <tr>\n",
       "      <th>37</th>\n",
       "      <td>38</td>\n",
       "      <td>c52</td>\n",
       "      <td>d16</td>\n",
       "      <td>2.2</td>\n",
       "      <td>63</td>\n",
       "    </tr>\n",
       "    <tr>\n",
       "      <th>38</th>\n",
       "      <td>39</td>\n",
       "      <td>c52</td>\n",
       "      <td>d16</td>\n",
       "      <td>2.2</td>\n",
       "      <td>56</td>\n",
       "    </tr>\n",
       "    <tr>\n",
       "      <th>39</th>\n",
       "      <td>40</td>\n",
       "      <td>c52</td>\n",
       "      <td>d16</td>\n",
       "      <td>2.2</td>\n",
       "      <td>72</td>\n",
       "    </tr>\n",
       "    <tr>\n",
       "      <th>40</th>\n",
       "      <td>41</td>\n",
       "      <td>c52</td>\n",
       "      <td>d20</td>\n",
       "      <td>4.0</td>\n",
       "      <td>52</td>\n",
       "    </tr>\n",
       "    <tr>\n",
       "      <th>41</th>\n",
       "      <td>42</td>\n",
       "      <td>c52</td>\n",
       "      <td>d20</td>\n",
       "      <td>2.8</td>\n",
       "      <td>70</td>\n",
       "    </tr>\n",
       "    <tr>\n",
       "      <th>42</th>\n",
       "      <td>43</td>\n",
       "      <td>c52</td>\n",
       "      <td>d20</td>\n",
       "      <td>3.1</td>\n",
       "      <td>57</td>\n",
       "    </tr>\n",
       "    <tr>\n",
       "      <th>43</th>\n",
       "      <td>44</td>\n",
       "      <td>c52</td>\n",
       "      <td>d20</td>\n",
       "      <td>4.2</td>\n",
       "      <td>58</td>\n",
       "    </tr>\n",
       "    <tr>\n",
       "      <th>44</th>\n",
       "      <td>45</td>\n",
       "      <td>c52</td>\n",
       "      <td>d20</td>\n",
       "      <td>3.7</td>\n",
       "      <td>47</td>\n",
       "    </tr>\n",
       "    <tr>\n",
       "      <th>45</th>\n",
       "      <td>46</td>\n",
       "      <td>c52</td>\n",
       "      <td>d20</td>\n",
       "      <td>3.0</td>\n",
       "      <td>56</td>\n",
       "    </tr>\n",
       "    <tr>\n",
       "      <th>46</th>\n",
       "      <td>47</td>\n",
       "      <td>c52</td>\n",
       "      <td>d20</td>\n",
       "      <td>2.2</td>\n",
       "      <td>72</td>\n",
       "    </tr>\n",
       "    <tr>\n",
       "      <th>47</th>\n",
       "      <td>48</td>\n",
       "      <td>c52</td>\n",
       "      <td>d20</td>\n",
       "      <td>2.3</td>\n",
       "      <td>63</td>\n",
       "    </tr>\n",
       "    <tr>\n",
       "      <th>48</th>\n",
       "      <td>49</td>\n",
       "      <td>c52</td>\n",
       "      <td>d20</td>\n",
       "      <td>3.8</td>\n",
       "      <td>54</td>\n",
       "    </tr>\n",
       "    <tr>\n",
       "      <th>49</th>\n",
       "      <td>50</td>\n",
       "      <td>c52</td>\n",
       "      <td>d20</td>\n",
       "      <td>2.0</td>\n",
       "      <td>60</td>\n",
       "    </tr>\n",
       "    <tr>\n",
       "      <th>50</th>\n",
       "      <td>51</td>\n",
       "      <td>c52</td>\n",
       "      <td>d21</td>\n",
       "      <td>1.5</td>\n",
       "      <td>78</td>\n",
       "    </tr>\n",
       "    <tr>\n",
       "      <th>51</th>\n",
       "      <td>52</td>\n",
       "      <td>c52</td>\n",
       "      <td>d21</td>\n",
       "      <td>1.4</td>\n",
       "      <td>75</td>\n",
       "    </tr>\n",
       "    <tr>\n",
       "      <th>52</th>\n",
       "      <td>53</td>\n",
       "      <td>c52</td>\n",
       "      <td>d21</td>\n",
       "      <td>1.7</td>\n",
       "      <td>70</td>\n",
       "    </tr>\n",
       "    <tr>\n",
       "      <th>53</th>\n",
       "      <td>54</td>\n",
       "      <td>c52</td>\n",
       "      <td>d21</td>\n",
       "      <td>1.3</td>\n",
       "      <td>84</td>\n",
       "    </tr>\n",
       "    <tr>\n",
       "      <th>54</th>\n",
       "      <td>55</td>\n",
       "      <td>c52</td>\n",
       "      <td>d21</td>\n",
       "      <td>1.7</td>\n",
       "      <td>71</td>\n",
       "    </tr>\n",
       "    <tr>\n",
       "      <th>55</th>\n",
       "      <td>56</td>\n",
       "      <td>c52</td>\n",
       "      <td>d21</td>\n",
       "      <td>1.6</td>\n",
       "      <td>72</td>\n",
       "    </tr>\n",
       "    <tr>\n",
       "      <th>56</th>\n",
       "      <td>57</td>\n",
       "      <td>c52</td>\n",
       "      <td>d21</td>\n",
       "      <td>1.4</td>\n",
       "      <td>62</td>\n",
       "    </tr>\n",
       "    <tr>\n",
       "      <th>57</th>\n",
       "      <td>58</td>\n",
       "      <td>c52</td>\n",
       "      <td>d21</td>\n",
       "      <td>1.0</td>\n",
       "      <td>68</td>\n",
       "    </tr>\n",
       "    <tr>\n",
       "      <th>58</th>\n",
       "      <td>59</td>\n",
       "      <td>c52</td>\n",
       "      <td>d21</td>\n",
       "      <td>1.5</td>\n",
       "      <td>66</td>\n",
       "    </tr>\n",
       "    <tr>\n",
       "      <th>59</th>\n",
       "      <td>60</td>\n",
       "      <td>c52</td>\n",
       "      <td>d21</td>\n",
       "      <td>1.6</td>\n",
       "      <td>72</td>\n",
       "    </tr>\n",
       "  </tbody>\n",
       "</table>\n",
       "</div>"
      ],
      "text/plain": [
       "    ID Cult Date  HeadWt  VitC\n",
       "0    1  c39  d16     2.5    51\n",
       "1    2  c39  d16     2.2    55\n",
       "2    3  c39  d16     3.1    45\n",
       "3    4  c39  d16     4.3    42\n",
       "4    5  c39  d16     2.5    53\n",
       "5    6  c39  d16     4.3    50\n",
       "6    7  c39  d16     3.8    50\n",
       "7    8  c39  d16     4.3    52\n",
       "8    9  c39  d16     1.7    56\n",
       "9   10  c39  d16     3.1    49\n",
       "10  11  c39  d20     3.0    65\n",
       "11  12  c39  d20     2.8    52\n",
       "12  13  c39  d20     2.8    41\n",
       "13  14  c39  d20     2.7    51\n",
       "14  15  c39  d20     2.6    41\n",
       "15  16  c39  d20     2.8    45\n",
       "16  17  c39  d20     2.6    51\n",
       "17  18  c39  d20     2.6    45\n",
       "18  19  c39  d20     2.6    61\n",
       "19  20  c39  d20     3.5    42\n",
       "20  21  c39  d21     2.2    54\n",
       "21  22  c39  d21     1.8    59\n",
       "22  23  c39  d21     1.6    66\n",
       "23  24  c39  d21     2.1    54\n",
       "24  25  c39  d21     3.3    45\n",
       "25  26  c39  d21     3.8    49\n",
       "26  27  c39  d21     3.2    49\n",
       "27  28  c39  d21     3.6    55\n",
       "28  29  c39  d21     4.2    49\n",
       "29  30  c39  d21     1.6    68\n",
       "30  31  c52  d16     2.0    58\n",
       "31  32  c52  d16     2.4    55\n",
       "32  33  c52  d16     1.9    67\n",
       "33  34  c52  d16     2.8    61\n",
       "34  35  c52  d16     1.7    67\n",
       "35  36  c52  d16     3.2    68\n",
       "36  37  c52  d16     2.0    58\n",
       "37  38  c52  d16     2.2    63\n",
       "38  39  c52  d16     2.2    56\n",
       "39  40  c52  d16     2.2    72\n",
       "40  41  c52  d20     4.0    52\n",
       "41  42  c52  d20     2.8    70\n",
       "42  43  c52  d20     3.1    57\n",
       "43  44  c52  d20     4.2    58\n",
       "44  45  c52  d20     3.7    47\n",
       "45  46  c52  d20     3.0    56\n",
       "46  47  c52  d20     2.2    72\n",
       "47  48  c52  d20     2.3    63\n",
       "48  49  c52  d20     3.8    54\n",
       "49  50  c52  d20     2.0    60\n",
       "50  51  c52  d21     1.5    78\n",
       "51  52  c52  d21     1.4    75\n",
       "52  53  c52  d21     1.7    70\n",
       "53  54  c52  d21     1.3    84\n",
       "54  55  c52  d21     1.7    71\n",
       "55  56  c52  d21     1.6    72\n",
       "56  57  c52  d21     1.4    62\n",
       "57  58  c52  d21     1.0    68\n",
       "58  59  c52  d21     1.5    66\n",
       "59  60  c52  d21     1.6    72"
      ]
     },
     "execution_count": 2,
     "metadata": {},
     "output_type": "execute_result"
    }
   ],
   "source": [
    "file"
   ]
  },
  {
   "cell_type": "code",
   "execution_count": 3,
   "id": "0cc69f4b",
   "metadata": {},
   "outputs": [
    {
     "name": "stdout",
     "output_type": "stream",
     "text": [
      "<class 'pandas.core.frame.DataFrame'>\n",
      "RangeIndex: 60 entries, 0 to 59\n",
      "Data columns (total 5 columns):\n",
      " #   Column  Non-Null Count  Dtype  \n",
      "---  ------  --------------  -----  \n",
      " 0   ID      60 non-null     int64  \n",
      " 1   Cult    60 non-null     object \n",
      " 2   Date    60 non-null     object \n",
      " 3   HeadWt  60 non-null     float64\n",
      " 4   VitC    60 non-null     int64  \n",
      "dtypes: float64(1), int64(2), object(2)\n",
      "memory usage: 2.5+ KB\n"
     ]
    }
   ],
   "source": [
    "#data description\n",
    "file.info()"
   ]
  },
  {
   "cell_type": "code",
   "execution_count": 4,
   "id": "93099efe",
   "metadata": {},
   "outputs": [
    {
     "data": {
      "text/html": [
       "<div>\n",
       "<style scoped>\n",
       "    .dataframe tbody tr th:only-of-type {\n",
       "        vertical-align: middle;\n",
       "    }\n",
       "\n",
       "    .dataframe tbody tr th {\n",
       "        vertical-align: top;\n",
       "    }\n",
       "\n",
       "    .dataframe thead th {\n",
       "        text-align: right;\n",
       "    }\n",
       "</style>\n",
       "<table border=\"1\" class=\"dataframe\">\n",
       "  <thead>\n",
       "    <tr style=\"text-align: right;\">\n",
       "      <th></th>\n",
       "      <th>ID</th>\n",
       "      <th>HeadWt</th>\n",
       "      <th>VitC</th>\n",
       "    </tr>\n",
       "  </thead>\n",
       "  <tbody>\n",
       "    <tr>\n",
       "      <th>count</th>\n",
       "      <td>60.000000</td>\n",
       "      <td>60.000000</td>\n",
       "      <td>60.00000</td>\n",
       "    </tr>\n",
       "    <tr>\n",
       "      <th>mean</th>\n",
       "      <td>30.500000</td>\n",
       "      <td>2.593333</td>\n",
       "      <td>57.95000</td>\n",
       "    </tr>\n",
       "    <tr>\n",
       "      <th>std</th>\n",
       "      <td>17.464249</td>\n",
       "      <td>0.882382</td>\n",
       "      <td>10.11866</td>\n",
       "    </tr>\n",
       "    <tr>\n",
       "      <th>min</th>\n",
       "      <td>1.000000</td>\n",
       "      <td>1.000000</td>\n",
       "      <td>41.00000</td>\n",
       "    </tr>\n",
       "    <tr>\n",
       "      <th>25%</th>\n",
       "      <td>15.750000</td>\n",
       "      <td>1.875000</td>\n",
       "      <td>50.75000</td>\n",
       "    </tr>\n",
       "    <tr>\n",
       "      <th>50%</th>\n",
       "      <td>30.500000</td>\n",
       "      <td>2.550000</td>\n",
       "      <td>56.00000</td>\n",
       "    </tr>\n",
       "    <tr>\n",
       "      <th>75%</th>\n",
       "      <td>45.250000</td>\n",
       "      <td>3.125000</td>\n",
       "      <td>66.25000</td>\n",
       "    </tr>\n",
       "    <tr>\n",
       "      <th>max</th>\n",
       "      <td>60.000000</td>\n",
       "      <td>4.300000</td>\n",
       "      <td>84.00000</td>\n",
       "    </tr>\n",
       "  </tbody>\n",
       "</table>\n",
       "</div>"
      ],
      "text/plain": [
       "              ID     HeadWt      VitC\n",
       "count  60.000000  60.000000  60.00000\n",
       "mean   30.500000   2.593333  57.95000\n",
       "std    17.464249   0.882382  10.11866\n",
       "min     1.000000   1.000000  41.00000\n",
       "25%    15.750000   1.875000  50.75000\n",
       "50%    30.500000   2.550000  56.00000\n",
       "75%    45.250000   3.125000  66.25000\n",
       "max    60.000000   4.300000  84.00000"
      ]
     },
     "execution_count": 4,
     "metadata": {},
     "output_type": "execute_result"
    }
   ],
   "source": [
    "file.describe()"
   ]
  },
  {
   "cell_type": "markdown",
   "id": "91387396",
   "metadata": {},
   "source": [
    "\n"
   ]
  },
  {
   "cell_type": "markdown",
   "id": "308d47d8",
   "metadata": {},
   "source": [
    "One of the main terms is mean (average). It is sum of all values divided by the number of these values.\n",
    "To calculate the meam of the weight of the cabbage head, the sum of all values is divided by the number of these values (60 entries). The mean weight is 2.59 kg."
   ]
  },
  {
   "cell_type": "code",
   "execution_count": 5,
   "id": "508b0700",
   "metadata": {},
   "outputs": [
    {
     "data": {
      "text/plain": [
       "2.5933333333333333"
      ]
     },
     "execution_count": 5,
     "metadata": {},
     "output_type": "execute_result"
    }
   ],
   "source": [
    "#calculating mean\n",
    "file['HeadWt'].mean()"
   ]
  },
  {
   "cell_type": "markdown",
   "id": "d76e7e71",
   "metadata": {},
   "source": [
    "Another term is median (50th percentile) which is the middle value in the sorted values. In this case, the median is 2.55."
   ]
  },
  {
   "cell_type": "code",
   "execution_count": 6,
   "id": "259a416a",
   "metadata": {},
   "outputs": [
    {
     "data": {
      "text/plain": [
       "2.55"
      ]
     },
     "execution_count": 6,
     "metadata": {},
     "output_type": "execute_result"
    }
   ],
   "source": [
    "#calculating median\n",
    "file['HeadWt'].median()"
   ]
  },
  {
   "cell_type": "markdown",
   "id": "843f2fe6",
   "metadata": {},
   "source": [
    "There are also terms describing how values are dispersed (if they are clustered or widely dispersed).\n",
    "The variance is the average of the sum of squared difference between each value and the mean of all values), while the standard deviation is the square root of the variance. The variance is $$0.882382496458592 ^ 2 = 0.7656222222222222.$$ In this case, the values are located mostly between $$1,710950837 = 2,59333333333333 - 0,882382496458592$$ and $$3,47571583\n",
    "=2,59333333333333 + 0,882382496458592.$$ "
   ]
  },
  {
   "cell_type": "code",
   "execution_count": 7,
   "id": "1463f902",
   "metadata": {},
   "outputs": [],
   "source": [
    "from scipy.stats import moment"
   ]
  },
  {
   "cell_type": "code",
   "execution_count": 8,
   "id": "efdb3cee",
   "metadata": {},
   "outputs": [
    {
     "data": {
      "text/plain": [
       "0.7656222222222222"
      ]
     },
     "execution_count": 8,
     "metadata": {},
     "output_type": "execute_result"
    }
   ],
   "source": [
    "#calculating variance\n",
    "moment(file['HeadWt'], moment=2)"
   ]
  },
  {
   "cell_type": "code",
   "execution_count": 9,
   "id": "deec88ed",
   "metadata": {},
   "outputs": [
    {
     "data": {
      "text/plain": [
       "0.882382496458592"
      ]
     },
     "execution_count": 9,
     "metadata": {},
     "output_type": "execute_result"
    }
   ],
   "source": [
    "#calculating standard deviation\n",
    "file['HeadWt'].std()"
   ]
  },
  {
   "cell_type": "markdown",
   "id": "0a3641ce",
   "metadata": {},
   "source": [
    "The dispersion of all values cas be visualised by means of the boxplot showing the five-number summary: the median (2.55), the lower quartile (1.87), the upper quartile (3.12), the maximum (4.3) and the minimum (1). There are no outlayers values. "
   ]
  },
  {
   "cell_type": "code",
   "execution_count": 10,
   "id": "abddadad",
   "metadata": {},
   "outputs": [],
   "source": [
    "import matplotlib.pyplot as plt"
   ]
  },
  {
   "cell_type": "code",
   "execution_count": 11,
   "id": "c3fc64b5",
   "metadata": {
    "scrolled": false
   },
   "outputs": [
    {
     "data": {
      "text/plain": [
       "{'whiskers': [<matplotlib.lines.Line2D at 0x2d649fbfdf0>,\n",
       "  <matplotlib.lines.Line2D at 0x2d64bfdc100>],\n",
       " 'caps': [<matplotlib.lines.Line2D at 0x2d64bfdc490>,\n",
       "  <matplotlib.lines.Line2D at 0x2d64bfdc820>],\n",
       " 'boxes': [<matplotlib.lines.Line2D at 0x2d649fbf9a0>],\n",
       " 'medians': [<matplotlib.lines.Line2D at 0x2d64bfdcbb0>],\n",
       " 'fliers': [<matplotlib.lines.Line2D at 0x2d64bfdcf40>],\n",
       " 'means': []}"
      ]
     },
     "execution_count": 11,
     "metadata": {},
     "output_type": "execute_result"
    },
    {
     "data": {
      "image/png": "[encoded data removed]",
      "text/plain": [
       "<Figure size 432x288 with 1 Axes>"
      ]
     },
     "metadata": {
      "needs_background": "light"
     },
     "output_type": "display_data"
    }
   ],
   "source": [
    "plt.boxplot(file[['HeadWt']])"
   ]
  },
  {
   "cell_type": "markdown",
   "id": "2bcbaa0b",
   "metadata": {},
   "source": [
    "Another important term is the skewness which is a measure of the asymmetry of values disperson. If the skewness value is positive (0.2463460740740742), as it is the case, it means the distribution is said to be right-skewed (most values are located below the mean). "
   ]
  },
  {
   "cell_type": "code",
   "execution_count": 12,
   "id": "50001b6f",
   "metadata": {},
   "outputs": [
    {
     "data": {
      "text/plain": [
       "(array([ 4., 12., 12., 12.,  8.,  6.,  6.]),\n",
       " array([1.        , 1.47142857, 1.94285714, 2.41428571, 2.88571429,\n",
       "        3.35714286, 3.82857143, 4.3       ]),\n",
       " <BarContainer object of 7 artists>)"
      ]
     },
     "execution_count": 12,
     "metadata": {},
     "output_type": "execute_result"
    },
    {
     "data": {
      "image/png": "[encoded data removed]",
      "text/plain": [
       "<Figure size 432x288 with 1 Axes>"
      ]
     },
     "metadata": {
      "needs_background": "light"
     },
     "output_type": "display_data"
    }
   ],
   "source": [
    "plt.hist(file[['HeadWt']], bins = 7)"
   ]
  },
  {
   "cell_type": "code",
   "execution_count": 13,
   "id": "2856333e",
   "metadata": {},
   "outputs": [
    {
     "data": {
      "text/plain": [
       "0.2463460740740742"
      ]
     },
     "execution_count": 13,
     "metadata": {},
     "output_type": "execute_result"
    }
   ],
   "source": [
    "#calculating skewness\n",
    "moment(file['HeadWt'], moment=3)"
   ]
  },
  {
   "cell_type": "markdown",
   "id": "7410e1f9",
   "metadata": {},
   "source": [
    "To see the dependance between the weight of the cabbage head and the vitamin C content, the correlation can be calculated. The weight of the cabbage head values and the vitamin C content values are negatively correlated (high values - cabbage head weight go with low values - vitamin C content). As it is shown below, the content of the vitamin C is lower when the weight is greater. The conclusion is that most vitamin C is contained in small cabbages."
   ]
  },
  {
   "cell_type": "code",
   "execution_count": 14,
   "id": "a17c7d4e",
   "metadata": {},
   "outputs": [
    {
     "data": {
      "text/plain": [
       "<matplotlib.collections.PathCollection at 0x2d64c138fd0>"
      ]
     },
     "execution_count": 14,
     "metadata": {},
     "output_type": "execute_result"
    },
    {
     "data": {
      "image/png": "[encoded data removed]",
      "text/plain": [
       "<Figure size 432x288 with 1 Axes>"
      ]
     },
     "metadata": {
      "needs_background": "light"
     },
     "output_type": "display_data"
    }
   ],
   "source": [
    "plt.scatter(file['HeadWt'],file['VitC'])"
   ]
  },
  {
   "cell_type": "code",
   "execution_count": 15,
   "id": "7840eff3",
   "metadata": {},
   "outputs": [
    {
     "data": {
      "text/html": [
       "<div>\n",
       "<style scoped>\n",
       "    .dataframe tbody tr th:only-of-type {\n",
       "        vertical-align: middle;\n",
       "    }\n",
       "\n",
       "    .dataframe tbody tr th {\n",
       "        vertical-align: top;\n",
       "    }\n",
       "\n",
       "    .dataframe thead th {\n",
       "        text-align: right;\n",
       "    }\n",
       "</style>\n",
       "<table border=\"1\" class=\"dataframe\">\n",
       "  <thead>\n",
       "    <tr style=\"text-align: right;\">\n",
       "      <th></th>\n",
       "      <th>HeadWt</th>\n",
       "      <th>VitC</th>\n",
       "    </tr>\n",
       "  </thead>\n",
       "  <tbody>\n",
       "    <tr>\n",
       "      <th>HeadWt</th>\n",
       "      <td>1.000000</td>\n",
       "      <td>-0.659892</td>\n",
       "    </tr>\n",
       "    <tr>\n",
       "      <th>VitC</th>\n",
       "      <td>-0.659892</td>\n",
       "      <td>1.000000</td>\n",
       "    </tr>\n",
       "  </tbody>\n",
       "</table>\n",
       "</div>"
      ],
      "text/plain": [
       "          HeadWt      VitC\n",
       "HeadWt  1.000000 -0.659892\n",
       "VitC   -0.659892  1.000000"
      ]
     },
     "execution_count": 15,
     "metadata": {},
     "output_type": "execute_result"
    }
   ],
   "source": [
    "#calculating correlation\n",
    "file.iloc[:,3:].corr()"
   ]
  },
  {
   "cell_type": "code",
   "execution_count": null,
   "id": "1dc63cb8",
   "metadata": {},
   "outputs": [],
   "source": []
  }
 ],
 "metadata": {
  "kernelspec": {
   "display_name": "Python 3",
   "language": "python",
   "name": "python3"
  },
  "language_info": {
   "codemirror_mode": {
    "name": "ipython",
    "version": 3
   },
   "file_extension": ".py",
   "mimetype": "text/x-python",
   "name": "python",
   "nbconvert_exporter": "python",
   "pygments_lexer": "ipython3",
   "version": "3.9.5"
  }
 },
 "nbformat": 4,
 "nbformat_minor": 5
}
